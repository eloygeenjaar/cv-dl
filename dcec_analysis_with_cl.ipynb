{
  "nbformat": 4,
  "nbformat_minor": 0,
  "metadata": {
    "kernelspec": {
      "display_name": "Python 3",
      "language": "python",
      "name": "python3"
    },
    "language_info": {
      "codemirror_mode": {
        "name": "ipython",
        "version": 3
      },
      "file_extension": ".py",
      "mimetype": "text/x-python",
      "name": "python",
      "nbconvert_exporter": "python",
      "pygments_lexer": "ipython3",
      "version": "3.7.6"
    },
    "colab": {
      "name": "dcec_analysis_with_cl.ipynb",
      "provenance": [],
      "toc_visible": true
    },
    "accelerator": "GPU"
  },
  "cells": [
    {
      "cell_type": "code",
      "metadata": {
        "id": "oEkOZbOQMr8w",
        "colab_type": "code",
        "outputId": "6e3cf5e4-c32f-42a1-e8d2-c44b15f4ea1d",
        "colab": {
          "base_uri": "https://localhost:8080/",
          "height": 118
        }
      },
      "source": [
        "from google.colab import drive\n",
        "drive.mount('/content/drive/')"
      ],
      "execution_count": 0,
      "outputs": [
        {
          "output_type": "stream",
          "text": [
            "Go to this URL in a browser: https://accounts.google.com/o/oauth2/auth?client_id=947318989803-6bn6qk8qdgf4n4g3pfee6491hc0brc4i.apps.googleusercontent.com&redirect_uri=urn%3aietf%3awg%3aoauth%3a2.0%3aoob&response_type=code&scope=email%20https%3a%2f%2fwww.googleapis.com%2fauth%2fdocs.test%20https%3a%2f%2fwww.googleapis.com%2fauth%2fdrive%20https%3a%2f%2fwww.googleapis.com%2fauth%2fdrive.photos.readonly%20https%3a%2f%2fwww.googleapis.com%2fauth%2fpeopleapi.readonly\n",
            "\n",
            "Enter your authorization code:\n",
            "··········\n",
            "Mounted at /content/drive/\n"
          ],
          "name": "stdout"
        }
      ]
    },
    {
      "cell_type": "code",
      "metadata": {
        "id": "G4D0CZTCOGsu",
        "colab_type": "code",
        "outputId": "49a2fd4d-1a53-4a52-a96b-1fcb05c0679d",
        "colab": {
          "base_uri": "https://localhost:8080/",
          "height": 68
        }
      },
      "source": [
        "%cd /content/drive/My\\ Drive/dcec\n",
        "%ls"
      ],
      "execution_count": 0,
      "outputs": [
        {
          "output_type": "stream",
          "text": [
            "[Errno 2] No such file or directory: '/content/drive/My Drive/dcec'\n",
            "/content\n",
            "\u001b[0m\u001b[01;34msample_data\u001b[0m/\n"
          ],
          "name": "stdout"
        }
      ]
    },
    {
      "cell_type": "code",
      "metadata": {
        "id": "H4hrcuEbLOOs",
        "colab_type": "code",
        "outputId": "2af51a33-9f39-437d-98b5-f830d73b794d",
        "colab": {
          "base_uri": "https://localhost:8080/",
          "height": 68
        }
      },
      "source": [
        "import numpy as np\n",
        "import keras\n",
        "import matplotlib.pyplot as plt\n",
        "from pathlib import Path\n",
        "from keras.datasets import mnist\n",
        "from keras import Model\n",
        "from keras.callbacks import ModelCheckpoint\n",
        "from sklearn.preprocessing import Normalizer\n",
        "from sklearn.cluster import KMeans\n",
        "from sklearn import metrics\n",
        "from sklearn.metrics import classification_report\n",
        "from sklearn.manifold import TSNE\n",
        "import tensorflow as tf\n",
        "import scipy\n",
        "import seaborn as sns\n",
        "\n",
        "from sklearn.metrics.cluster import contingency_matrix\n",
        "\n",
        "from keras.layers import Conv2D, Conv2DTranspose, Dense, Flatten, Reshape\n",
        "from keras.models import Sequential, Model"
      ],
      "execution_count": 1,
      "outputs": [
        {
          "output_type": "stream",
          "text": [
            "Using TensorFlow backend.\n",
            "/usr/local/lib/python3.6/dist-packages/statsmodels/tools/_testing.py:19: FutureWarning: pandas.util.testing is deprecated. Use the functions in the public API at pandas.testing instead.\n",
            "  import pandas.util.testing as tm\n"
          ],
          "name": "stderr"
        }
      ]
    },
    {
      "cell_type": "markdown",
      "metadata": {
        "id": "t9m9KGXJLOOy",
        "colab_type": "text"
      },
      "source": [
        "### Replication of Results\n",
        "\n",
        "### HyperParameters Found in the Paper\n",
        "- Batch size 256\n",
        "- Epochs 200\n",
        "\n",
        "```"
      ]
    },
    {
      "cell_type": "code",
      "metadata": {
        "id": "OG0vYN7ILOOz",
        "colab_type": "code",
        "outputId": "9ccb32f6-b04f-4a58-d847-d5d687c8afa6",
        "colab": {
          "base_uri": "https://localhost:8080/",
          "height": 85
        }
      },
      "source": [
        "img_rows, img_cols = 28, 28\n",
        "batch_size = 256\n",
        "(mnist_train_data, mnist_train_labels), (mnist_test_data, mnist_test_labels) = mnist.load_data()\n",
        "mnist_train_data = mnist_train_data.reshape(mnist_train_data.shape[0], img_rows, img_cols, 1)\n",
        "mnist_train_data = mnist_train_data.astype('float32')\n",
        "mnist_train_data /= 255\n",
        "mnist_test_data = mnist_test_data.reshape(mnist_test_data.shape[0], img_rows, img_cols, 1)\n",
        "mnist_test_data = mnist_test_data.astype('float32')\n",
        "mnist_test_data /= 255\n",
        "print(f'MNIST train shape:  {mnist_train_data.shape}')\n",
        "print(f'MNIST validation shape: {mnist_test_data.shape}')"
      ],
      "execution_count": 0,
      "outputs": [
        {
          "output_type": "stream",
          "text": [
            "Downloading data from https://s3.amazonaws.com/img-datasets/mnist.npz\n",
            "11493376/11490434 [==============================] - 1s 0us/step\n",
            "MNIST train shape:  (60000, 28, 28, 1)\n",
            "MNIST validation shape: (10000, 28, 28, 1)\n"
          ],
          "name": "stdout"
        }
      ]
    },
    {
      "cell_type": "code",
      "metadata": {
        "id": "YZWFUhA6LOO3",
        "colab_type": "code",
        "colab": {}
      },
      "source": [
        "def CAE(input_shape=(28, 28, 1), filters=[32, 64, 128, 10], use_norm=False):\n",
        "    model = keras.models.Sequential()\n",
        "    if input_shape[0] % 8 == 0:\n",
        "        pad3 = 'same'\n",
        "    else:\n",
        "        pad3 = 'valid'\n",
        "    model.add(Conv2D(filters[0], 5, strides=2, padding='same', activation='relu', name='conv1', input_shape=input_shape))\n",
        "    model.add(Conv2D(filters[1], 5, strides=2, padding='same', activation='relu', name='conv2'))\n",
        "    model.add(Conv2D(filters[2], 3, strides=2, padding=pad3, activation='relu', name='conv3'))\n",
        "    model.add(Flatten())\n",
        "    \n",
        "    if use_norm:\n",
        "      model.add(Dense(units=filters[3], name='dense1'))\n",
        "      model.add(keras.layers.Lambda(lambda x: tf.keras.backend.l2_normalize(x, axis=1), name='embedding'))\n",
        "    else:\n",
        "      model.add(Dense(units=filters[3], name='embedding'))\n",
        "\n",
        "    model.add(Dense(units=filters[2]*int(input_shape[0]/8)*int(input_shape[0]/8), activation='relu'))\n",
        "    model.add(Reshape((int(input_shape[0]/8), int(input_shape[0]/8), filters[2])))\n",
        "    model.add(Conv2DTranspose(filters[1], 3, strides=2, padding=pad3, activation='relu', name='deconv3'))\n",
        "    model.add(Conv2DTranspose(filters[0], 5, strides=2, padding='same', activation='relu', name='deconv2'))\n",
        "    model.add(Conv2DTranspose(input_shape[2], 5, strides=2, padding='same', name='deconv1'))\n",
        "    model.summary()\n",
        "    return model\n"
      ],
      "execution_count": 0,
      "outputs": []
    },
    {
      "cell_type": "code",
      "metadata": {
        "id": "s_7B17WTCnaO",
        "colab_type": "code",
        "outputId": "23c68290-a1b6-4c14-d15d-69206ec64749",
        "colab": {
          "base_uri": "https://localhost:8080/",
          "height": 529
        }
      },
      "source": [
        "cae_l2 = CAE(use_norm=True)\n",
        "\n",
        "#cae.compile(optimizer='adam', loss='mse')\n",
        "cae_l2.compile(optimizer='adam', loss='mse')\n"
      ],
      "execution_count": 0,
      "outputs": [
        {
          "output_type": "stream",
          "text": [
            "Model: \"sequential_2\"\n",
            "_________________________________________________________________\n",
            "Layer (type)                 Output Shape              Param #   \n",
            "=================================================================\n",
            "conv1 (Conv2D)               (None, 14, 14, 32)        832       \n",
            "_________________________________________________________________\n",
            "conv2 (Conv2D)               (None, 7, 7, 64)          51264     \n",
            "_________________________________________________________________\n",
            "conv3 (Conv2D)               (None, 3, 3, 128)         73856     \n",
            "_________________________________________________________________\n",
            "flatten_2 (Flatten)          (None, 1152)              0         \n",
            "_________________________________________________________________\n",
            "dense1 (Dense)               (None, 10)                11530     \n",
            "_________________________________________________________________\n",
            "embedding (Lambda)           (None, 10)                0         \n",
            "_________________________________________________________________\n",
            "dense_2 (Dense)              (None, 1152)              12672     \n",
            "_________________________________________________________________\n",
            "reshape_2 (Reshape)          (None, 3, 3, 128)         0         \n",
            "_________________________________________________________________\n",
            "deconv3 (Conv2DTranspose)    (None, 7, 7, 64)          73792     \n",
            "_________________________________________________________________\n",
            "deconv2 (Conv2DTranspose)    (None, 14, 14, 32)        51232     \n",
            "_________________________________________________________________\n",
            "deconv1 (Conv2DTranspose)    (None, 28, 28, 1)         801       \n",
            "=================================================================\n",
            "Total params: 275,979\n",
            "Trainable params: 275,979\n",
            "Non-trainable params: 0\n",
            "_________________________________________________________________\n"
          ],
          "name": "stdout"
        }
      ]
    },
    {
      "cell_type": "markdown",
      "metadata": {
        "id": "gS6CLIxfOOQ4",
        "colab_type": "text"
      },
      "source": [
        "# Model without $L_2$ Norm "
      ]
    },
    {
      "cell_type": "code",
      "metadata": {
        "id": "qo30mRRlLOO6",
        "colab_type": "code",
        "outputId": "f4501235-68c9-48d8-8ab8-1a52564f6cc8",
        "colab": {
          "base_uri": "https://localhost:8080/",
          "height": 1000
        }
      },
      "source": [
        "epochs = 100\n",
        "\n",
        "if True:\n",
        "  checkpoint = ModelCheckpoint(\"weights/dcec_best_model.hdf5\", monitor='loss', verbose=1,\n",
        "      save_best_only=True, mode='auto', period=50)\n",
        "\n",
        "  cae.fit(mnist_train_data, \n",
        "          mnist_train_data, \n",
        "          batch_size=batch_size, \n",
        "          epochs=epochs,\n",
        "          verbose=1)\n",
        "          # callbacks=[checkpoint])\n",
        "\n",
        "  cae.save_weights(f\"weights/cae_final_model_{epochs}_{batch_size}.h5\")\n",
        "else:\n",
        "  cae.load_weights(f\"weights/cae_final_model_{epochs}_{batch_size}.h5\")"
      ],
      "execution_count": 0,
      "outputs": [
        {
          "output_type": "stream",
          "text": [
            "Epoch 1/100\n",
            "60000/60000 [==============================] - 10s 160us/step - loss: 0.0330\n",
            "Epoch 2/100\n",
            "60000/60000 [==============================] - 3s 53us/step - loss: 0.0169\n",
            "Epoch 3/100\n",
            "60000/60000 [==============================] - 3s 53us/step - loss: 0.0151\n",
            "Epoch 4/100\n",
            "60000/60000 [==============================] - 3s 53us/step - loss: 0.0142\n",
            "Epoch 5/100\n",
            "60000/60000 [==============================] - 3s 53us/step - loss: 0.0135\n",
            "Epoch 6/100\n",
            "60000/60000 [==============================] - 3s 53us/step - loss: 0.0130\n",
            "Epoch 7/100\n",
            "60000/60000 [==============================] - 3s 52us/step - loss: 0.0126\n",
            "Epoch 8/100\n",
            "60000/60000 [==============================] - 3s 52us/step - loss: 0.0122\n",
            "Epoch 9/100\n",
            "60000/60000 [==============================] - 3s 53us/step - loss: 0.0119\n",
            "Epoch 10/100\n",
            "60000/60000 [==============================] - 3s 53us/step - loss: 0.0117\n",
            "Epoch 11/100\n",
            "60000/60000 [==============================] - 3s 52us/step - loss: 0.0115\n",
            "Epoch 12/100\n",
            "60000/60000 [==============================] - 3s 52us/step - loss: 0.0113\n",
            "Epoch 13/100\n",
            "60000/60000 [==============================] - 3s 53us/step - loss: 0.0111\n",
            "Epoch 14/100\n",
            "60000/60000 [==============================] - 3s 52us/step - loss: 0.0109\n",
            "Epoch 15/100\n",
            "60000/60000 [==============================] - 3s 52us/step - loss: 0.0108\n",
            "Epoch 16/100\n",
            "60000/60000 [==============================] - 3s 53us/step - loss: 0.0107\n",
            "Epoch 17/100\n",
            "60000/60000 [==============================] - 3s 52us/step - loss: 0.0106\n",
            "Epoch 18/100\n",
            "60000/60000 [==============================] - 3s 53us/step - loss: 0.0104\n",
            "Epoch 19/100\n",
            "60000/60000 [==============================] - 3s 52us/step - loss: 0.0103\n",
            "Epoch 20/100\n",
            "60000/60000 [==============================] - 3s 52us/step - loss: 0.0102\n",
            "Epoch 21/100\n",
            "60000/60000 [==============================] - 3s 52us/step - loss: 0.0102\n",
            "Epoch 22/100\n",
            "60000/60000 [==============================] - 3s 52us/step - loss: 0.0101\n",
            "Epoch 23/100\n",
            "60000/60000 [==============================] - 3s 53us/step - loss: 0.0100\n",
            "Epoch 24/100\n",
            "60000/60000 [==============================] - 3s 53us/step - loss: 0.0099\n",
            "Epoch 25/100\n",
            "60000/60000 [==============================] - 3s 53us/step - loss: 0.0099\n",
            "Epoch 26/100\n",
            "60000/60000 [==============================] - 3s 53us/step - loss: 0.0098\n",
            "Epoch 27/100\n",
            "60000/60000 [==============================] - 3s 53us/step - loss: 0.0098\n",
            "Epoch 28/100\n",
            "60000/60000 [==============================] - 3s 52us/step - loss: 0.0097\n",
            "Epoch 29/100\n",
            "60000/60000 [==============================] - 3s 52us/step - loss: 0.0097\n",
            "Epoch 30/100\n",
            "60000/60000 [==============================] - 3s 52us/step - loss: 0.0096\n",
            "Epoch 31/100\n",
            "60000/60000 [==============================] - 3s 52us/step - loss: 0.0096\n",
            "Epoch 32/100\n",
            "60000/60000 [==============================] - 3s 53us/step - loss: 0.0095\n",
            "Epoch 33/100\n",
            "60000/60000 [==============================] - 3s 53us/step - loss: 0.0095\n",
            "Epoch 34/100\n",
            "60000/60000 [==============================] - 3s 52us/step - loss: 0.0094\n",
            "Epoch 35/100\n",
            "60000/60000 [==============================] - 3s 52us/step - loss: 0.0094\n",
            "Epoch 36/100\n",
            "60000/60000 [==============================] - 3s 52us/step - loss: 0.0094\n",
            "Epoch 37/100\n",
            "60000/60000 [==============================] - 3s 52us/step - loss: 0.0093\n",
            "Epoch 38/100\n",
            "60000/60000 [==============================] - 3s 52us/step - loss: 0.0093\n",
            "Epoch 39/100\n",
            "60000/60000 [==============================] - 3s 52us/step - loss: 0.0093\n",
            "Epoch 40/100\n",
            "60000/60000 [==============================] - 3s 52us/step - loss: 0.0092\n",
            "Epoch 41/100\n",
            "60000/60000 [==============================] - 3s 52us/step - loss: 0.0092\n",
            "Epoch 42/100\n",
            "60000/60000 [==============================] - 3s 52us/step - loss: 0.0092\n",
            "Epoch 43/100\n",
            "60000/60000 [==============================] - 3s 53us/step - loss: 0.0091\n",
            "Epoch 44/100\n",
            "60000/60000 [==============================] - 3s 54us/step - loss: 0.0091\n",
            "Epoch 45/100\n",
            "60000/60000 [==============================] - 3s 52us/step - loss: 0.0091\n",
            "Epoch 46/100\n",
            "60000/60000 [==============================] - 3s 52us/step - loss: 0.0091\n",
            "Epoch 47/100\n",
            "60000/60000 [==============================] - 3s 52us/step - loss: 0.0090\n",
            "Epoch 48/100\n",
            "60000/60000 [==============================] - 3s 52us/step - loss: 0.0090\n",
            "Epoch 49/100\n",
            "60000/60000 [==============================] - 3s 53us/step - loss: 0.0090\n",
            "Epoch 50/100\n",
            "60000/60000 [==============================] - 3s 52us/step - loss: 0.0090\n",
            "Epoch 51/100\n",
            "60000/60000 [==============================] - 3s 53us/step - loss: 0.0090\n",
            "Epoch 52/100\n",
            "60000/60000 [==============================] - 3s 53us/step - loss: 0.0089\n",
            "Epoch 53/100\n",
            "60000/60000 [==============================] - 3s 53us/step - loss: 0.0089\n",
            "Epoch 54/100\n",
            "60000/60000 [==============================] - 3s 52us/step - loss: 0.0089\n",
            "Epoch 55/100\n",
            "60000/60000 [==============================] - 3s 52us/step - loss: 0.0089\n",
            "Epoch 56/100\n",
            "60000/60000 [==============================] - 3s 52us/step - loss: 0.0089\n",
            "Epoch 57/100\n",
            "60000/60000 [==============================] - 3s 52us/step - loss: 0.0088\n",
            "Epoch 58/100\n",
            "60000/60000 [==============================] - 3s 52us/step - loss: 0.0088\n",
            "Epoch 59/100\n",
            "60000/60000 [==============================] - 3s 52us/step - loss: 0.0088\n",
            "Epoch 60/100\n",
            "60000/60000 [==============================] - 3s 52us/step - loss: 0.0088\n",
            "Epoch 61/100\n",
            "60000/60000 [==============================] - 3s 52us/step - loss: 0.0088\n",
            "Epoch 62/100\n",
            "60000/60000 [==============================] - 3s 52us/step - loss: 0.0088\n",
            "Epoch 63/100\n",
            "60000/60000 [==============================] - 3s 54us/step - loss: 0.0087\n",
            "Epoch 64/100\n",
            "60000/60000 [==============================] - 3s 53us/step - loss: 0.0087\n",
            "Epoch 65/100\n",
            "60000/60000 [==============================] - 3s 54us/step - loss: 0.0087\n",
            "Epoch 66/100\n",
            "60000/60000 [==============================] - 3s 54us/step - loss: 0.0087\n",
            "Epoch 67/100\n",
            "60000/60000 [==============================] - 3s 54us/step - loss: 0.0087\n",
            "Epoch 68/100\n",
            "60000/60000 [==============================] - 3s 53us/step - loss: 0.0087\n",
            "Epoch 69/100\n",
            "60000/60000 [==============================] - 3s 52us/step - loss: 0.0087\n",
            "Epoch 70/100\n",
            "60000/60000 [==============================] - 3s 52us/step - loss: 0.0086\n",
            "Epoch 71/100\n",
            "60000/60000 [==============================] - 3s 52us/step - loss: 0.0086\n",
            "Epoch 72/100\n",
            "60000/60000 [==============================] - 3s 53us/step - loss: 0.0086\n",
            "Epoch 73/100\n",
            "60000/60000 [==============================] - 3s 53us/step - loss: 0.0086\n",
            "Epoch 74/100\n",
            "60000/60000 [==============================] - 3s 53us/step - loss: 0.0086\n",
            "Epoch 75/100\n",
            "60000/60000 [==============================] - 3s 53us/step - loss: 0.0086\n",
            "Epoch 76/100\n",
            "60000/60000 [==============================] - 3s 52us/step - loss: 0.0086\n",
            "Epoch 77/100\n",
            "60000/60000 [==============================] - 3s 53us/step - loss: 0.0086\n",
            "Epoch 78/100\n",
            "60000/60000 [==============================] - 3s 53us/step - loss: 0.0086\n",
            "Epoch 79/100\n",
            "60000/60000 [==============================] - 3s 52us/step - loss: 0.0085\n",
            "Epoch 80/100\n",
            "60000/60000 [==============================] - 3s 52us/step - loss: 0.0085\n",
            "Epoch 81/100\n",
            "60000/60000 [==============================] - 3s 52us/step - loss: 0.0085\n",
            "Epoch 82/100\n",
            "60000/60000 [==============================] - 3s 54us/step - loss: 0.0085\n",
            "Epoch 83/100\n",
            "60000/60000 [==============================] - 3s 53us/step - loss: 0.0085\n",
            "Epoch 84/100\n",
            "60000/60000 [==============================] - 3s 53us/step - loss: 0.0085\n",
            "Epoch 85/100\n",
            "60000/60000 [==============================] - 3s 54us/step - loss: 0.0085\n",
            "Epoch 86/100\n",
            "60000/60000 [==============================] - 3s 53us/step - loss: 0.0085\n",
            "Epoch 87/100\n",
            "60000/60000 [==============================] - 3s 52us/step - loss: 0.0085\n",
            "Epoch 88/100\n",
            "60000/60000 [==============================] - 3s 52us/step - loss: 0.0085\n",
            "Epoch 89/100\n",
            "60000/60000 [==============================] - 3s 52us/step - loss: 0.0084\n",
            "Epoch 90/100\n",
            "60000/60000 [==============================] - 3s 52us/step - loss: 0.0084\n",
            "Epoch 91/100\n",
            "60000/60000 [==============================] - 3s 53us/step - loss: 0.0084\n",
            "Epoch 92/100\n",
            "60000/60000 [==============================] - 3s 52us/step - loss: 0.0084\n",
            "Epoch 93/100\n",
            "60000/60000 [==============================] - 3s 53us/step - loss: 0.0084\n",
            "Epoch 94/100\n",
            "60000/60000 [==============================] - 3s 52us/step - loss: 0.0084\n",
            "Epoch 95/100\n",
            "60000/60000 [==============================] - 3s 52us/step - loss: 0.0084\n",
            "Epoch 96/100\n",
            "60000/60000 [==============================] - 3s 52us/step - loss: 0.0084\n",
            "Epoch 97/100\n",
            "60000/60000 [==============================] - 3s 52us/step - loss: 0.0084\n",
            "Epoch 98/100\n",
            "60000/60000 [==============================] - 3s 52us/step - loss: 0.0084\n",
            "Epoch 99/100\n",
            "60000/60000 [==============================] - 3s 52us/step - loss: 0.0083\n",
            "Epoch 100/100\n",
            "60000/60000 [==============================] - 3s 53us/step - loss: 0.0084\n"
          ],
          "name": "stdout"
        }
      ]
    },
    {
      "cell_type": "markdown",
      "metadata": {
        "id": "6PvjrdpNOnO5",
        "colab_type": "text"
      },
      "source": [
        "# Model with $L_2$ Norm"
      ]
    },
    {
      "cell_type": "code",
      "metadata": {
        "id": "ilcznTvnOK1F",
        "colab_type": "code",
        "outputId": "098dbfa5-0bdf-40d8-88a8-2b31878544d3",
        "colab": {
          "base_uri": "https://localhost:8080/",
          "height": 1000
        }
      },
      "source": [
        "epochs = 100\n",
        "\n",
        "if True:\n",
        "  checkpoint = ModelCheckpoint(\"weights/dcec_best_model.hdf5\", monitor='loss', verbose=1,\n",
        "      save_best_only=True, mode='auto', period=50)\n",
        "\n",
        "  cae_l2.fit(mnist_train_data, \n",
        "          mnist_train_data, \n",
        "          batch_size=batch_size, \n",
        "          epochs=epochs,\n",
        "          steps_per_epoch = batch_size\n",
        "          verbose=1)\n",
        "          # callbacks=[checkpoint])\n",
        "\n",
        "  cae_l2.save_weights(f\"weights/cae_l2_final_model_{epochs}_{batch_size}.h5\")\n",
        "else:\n",
        "  cae_l2.load_weights(f\"weights/cae_l2_final_model_{epochs}_{batch_size}.h5\")"
      ],
      "execution_count": 0,
      "outputs": [
        {
          "output_type": "stream",
          "text": [
            "Epoch 1/100\n",
            "60000/60000 [==============================] - 9s 155us/step - loss: 0.0441\n",
            "Epoch 2/100\n",
            "60000/60000 [==============================] - 2s 37us/step - loss: 0.0213\n",
            "Epoch 3/100\n",
            "60000/60000 [==============================] - 2s 37us/step - loss: 0.0181\n",
            "Epoch 4/100\n",
            "60000/60000 [==============================] - 2s 37us/step - loss: 0.0167\n",
            "Epoch 5/100\n",
            "60000/60000 [==============================] - 2s 37us/step - loss: 0.0157\n",
            "Epoch 6/100\n",
            "60000/60000 [==============================] - 2s 37us/step - loss: 0.0151\n",
            "Epoch 7/100\n",
            "60000/60000 [==============================] - 2s 37us/step - loss: 0.0146\n",
            "Epoch 8/100\n",
            "60000/60000 [==============================] - 2s 37us/step - loss: 0.0142\n",
            "Epoch 9/100\n",
            "60000/60000 [==============================] - 2s 37us/step - loss: 0.0138\n",
            "Epoch 10/100\n",
            "60000/60000 [==============================] - 2s 37us/step - loss: 0.0135\n",
            "Epoch 11/100\n",
            "60000/60000 [==============================] - 2s 37us/step - loss: 0.0133\n",
            "Epoch 12/100\n",
            "60000/60000 [==============================] - 2s 38us/step - loss: 0.0131\n",
            "Epoch 13/100\n",
            "60000/60000 [==============================] - 2s 38us/step - loss: 0.0129\n",
            "Epoch 14/100\n",
            "60000/60000 [==============================] - 2s 38us/step - loss: 0.0127\n",
            "Epoch 15/100\n",
            "60000/60000 [==============================] - 2s 39us/step - loss: 0.0125\n",
            "Epoch 16/100\n",
            "60000/60000 [==============================] - 2s 38us/step - loss: 0.0124\n",
            "Epoch 17/100\n",
            "60000/60000 [==============================] - 2s 38us/step - loss: 0.0123\n",
            "Epoch 18/100\n",
            "60000/60000 [==============================] - 2s 38us/step - loss: 0.0121\n",
            "Epoch 19/100\n",
            "60000/60000 [==============================] - 2s 38us/step - loss: 0.0120\n",
            "Epoch 20/100\n",
            "60000/60000 [==============================] - 2s 38us/step - loss: 0.0119\n",
            "Epoch 21/100\n",
            "60000/60000 [==============================] - 2s 38us/step - loss: 0.0118\n",
            "Epoch 22/100\n",
            "60000/60000 [==============================] - 2s 38us/step - loss: 0.0117\n",
            "Epoch 23/100\n",
            "60000/60000 [==============================] - 2s 38us/step - loss: 0.0116\n",
            "Epoch 24/100\n",
            "60000/60000 [==============================] - 2s 38us/step - loss: 0.0115\n",
            "Epoch 25/100\n",
            "60000/60000 [==============================] - 2s 38us/step - loss: 0.0115\n",
            "Epoch 26/100\n",
            "60000/60000 [==============================] - 2s 38us/step - loss: 0.0114\n",
            "Epoch 27/100\n",
            "60000/60000 [==============================] - 2s 39us/step - loss: 0.0113\n",
            "Epoch 28/100\n",
            "60000/60000 [==============================] - 2s 38us/step - loss: 0.0113\n",
            "Epoch 29/100\n",
            "60000/60000 [==============================] - 2s 38us/step - loss: 0.0112\n",
            "Epoch 30/100\n",
            "60000/60000 [==============================] - 2s 38us/step - loss: 0.0111\n",
            "Epoch 31/100\n",
            "60000/60000 [==============================] - 2s 39us/step - loss: 0.0111\n",
            "Epoch 32/100\n",
            "60000/60000 [==============================] - 2s 39us/step - loss: 0.0110\n",
            "Epoch 33/100\n",
            "60000/60000 [==============================] - 2s 38us/step - loss: 0.0110\n",
            "Epoch 34/100\n",
            "60000/60000 [==============================] - 2s 38us/step - loss: 0.0109\n",
            "Epoch 35/100\n",
            "60000/60000 [==============================] - 2s 39us/step - loss: 0.0109\n",
            "Epoch 36/100\n",
            "60000/60000 [==============================] - 2s 39us/step - loss: 0.0108\n",
            "Epoch 37/100\n",
            "60000/60000 [==============================] - 2s 39us/step - loss: 0.0108\n",
            "Epoch 38/100\n",
            "60000/60000 [==============================] - 2s 39us/step - loss: 0.0108\n",
            "Epoch 39/100\n",
            "60000/60000 [==============================] - 2s 39us/step - loss: 0.0107\n",
            "Epoch 40/100\n",
            "60000/60000 [==============================] - 2s 38us/step - loss: 0.0107\n",
            "Epoch 41/100\n",
            "60000/60000 [==============================] - 2s 39us/step - loss: 0.0106\n",
            "Epoch 42/100\n",
            "60000/60000 [==============================] - 2s 38us/step - loss: 0.0106\n",
            "Epoch 43/100\n",
            "60000/60000 [==============================] - 2s 38us/step - loss: 0.0106\n",
            "Epoch 44/100\n",
            "60000/60000 [==============================] - 2s 38us/step - loss: 0.0106\n",
            "Epoch 45/100\n",
            "60000/60000 [==============================] - 2s 38us/step - loss: 0.0105\n",
            "Epoch 46/100\n",
            "60000/60000 [==============================] - 2s 38us/step - loss: 0.0105\n",
            "Epoch 47/100\n",
            "60000/60000 [==============================] - 2s 38us/step - loss: 0.0104\n",
            "Epoch 48/100\n",
            "60000/60000 [==============================] - 2s 38us/step - loss: 0.0104\n",
            "Epoch 49/100\n",
            "60000/60000 [==============================] - 2s 38us/step - loss: 0.0104\n",
            "Epoch 50/100\n",
            "60000/60000 [==============================] - 2s 38us/step - loss: 0.0103\n",
            "Epoch 51/100\n",
            "60000/60000 [==============================] - 2s 38us/step - loss: 0.0103\n",
            "Epoch 52/100\n",
            "60000/60000 [==============================] - 2s 38us/step - loss: 0.0103\n",
            "Epoch 53/100\n",
            "60000/60000 [==============================] - 2s 38us/step - loss: 0.0103\n",
            "Epoch 54/100\n",
            "60000/60000 [==============================] - 2s 38us/step - loss: 0.0102\n",
            "Epoch 55/100\n",
            "60000/60000 [==============================] - 2s 38us/step - loss: 0.0102\n",
            "Epoch 56/100\n",
            "60000/60000 [==============================] - 2s 38us/step - loss: 0.0102\n",
            "Epoch 57/100\n",
            "23552/60000 [==========>...................] - ETA: 1s - loss: 0.0101"
          ],
          "name": "stdout"
        },
        {
          "output_type": "error",
          "ename": "KeyboardInterrupt",
          "evalue": "ignored",
          "traceback": [
            "\u001b[0;31m---------------------------------------------------------------------------\u001b[0m",
            "\u001b[0;31mKeyboardInterrupt\u001b[0m                         Traceback (most recent call last)",
            "\u001b[0;32m<ipython-input-8-1bdba7d076de>\u001b[0m in \u001b[0;36m<module>\u001b[0;34m()\u001b[0m\n\u001b[1;32m      9\u001b[0m           \u001b[0mbatch_size\u001b[0m\u001b[0;34m=\u001b[0m\u001b[0mbatch_size\u001b[0m\u001b[0;34m,\u001b[0m\u001b[0;34m\u001b[0m\u001b[0;34m\u001b[0m\u001b[0m\n\u001b[1;32m     10\u001b[0m           \u001b[0mepochs\u001b[0m\u001b[0;34m=\u001b[0m\u001b[0mepochs\u001b[0m\u001b[0;34m,\u001b[0m\u001b[0;34m\u001b[0m\u001b[0;34m\u001b[0m\u001b[0m\n\u001b[0;32m---> 11\u001b[0;31m           verbose=1)\n\u001b[0m\u001b[1;32m     12\u001b[0m           \u001b[0;31m# callbacks=[checkpoint])\u001b[0m\u001b[0;34m\u001b[0m\u001b[0;34m\u001b[0m\u001b[0;34m\u001b[0m\u001b[0m\n\u001b[1;32m     13\u001b[0m \u001b[0;34m\u001b[0m\u001b[0m\n",
            "\u001b[0;32m/usr/local/lib/python3.6/dist-packages/keras/engine/training.py\u001b[0m in \u001b[0;36mfit\u001b[0;34m(self, x, y, batch_size, epochs, verbose, callbacks, validation_split, validation_data, shuffle, class_weight, sample_weight, initial_epoch, steps_per_epoch, validation_steps, validation_freq, max_queue_size, workers, use_multiprocessing, **kwargs)\u001b[0m\n\u001b[1;32m   1237\u001b[0m                                         \u001b[0msteps_per_epoch\u001b[0m\u001b[0;34m=\u001b[0m\u001b[0msteps_per_epoch\u001b[0m\u001b[0;34m,\u001b[0m\u001b[0;34m\u001b[0m\u001b[0;34m\u001b[0m\u001b[0m\n\u001b[1;32m   1238\u001b[0m                                         \u001b[0mvalidation_steps\u001b[0m\u001b[0;34m=\u001b[0m\u001b[0mvalidation_steps\u001b[0m\u001b[0;34m,\u001b[0m\u001b[0;34m\u001b[0m\u001b[0;34m\u001b[0m\u001b[0m\n\u001b[0;32m-> 1239\u001b[0;31m                                         validation_freq=validation_freq)\n\u001b[0m\u001b[1;32m   1240\u001b[0m \u001b[0;34m\u001b[0m\u001b[0m\n\u001b[1;32m   1241\u001b[0m     def evaluate(self,\n",
            "\u001b[0;32m/usr/local/lib/python3.6/dist-packages/keras/engine/training_arrays.py\u001b[0m in \u001b[0;36mfit_loop\u001b[0;34m(model, fit_function, fit_inputs, out_labels, batch_size, epochs, verbose, callbacks, val_function, val_inputs, shuffle, initial_epoch, steps_per_epoch, validation_steps, validation_freq)\u001b[0m\n\u001b[1;32m    194\u001b[0m                     \u001b[0mins_batch\u001b[0m\u001b[0;34m[\u001b[0m\u001b[0mi\u001b[0m\u001b[0;34m]\u001b[0m \u001b[0;34m=\u001b[0m \u001b[0mins_batch\u001b[0m\u001b[0;34m[\u001b[0m\u001b[0mi\u001b[0m\u001b[0;34m]\u001b[0m\u001b[0;34m.\u001b[0m\u001b[0mtoarray\u001b[0m\u001b[0;34m(\u001b[0m\u001b[0;34m)\u001b[0m\u001b[0;34m\u001b[0m\u001b[0;34m\u001b[0m\u001b[0m\n\u001b[1;32m    195\u001b[0m \u001b[0;34m\u001b[0m\u001b[0m\n\u001b[0;32m--> 196\u001b[0;31m                 \u001b[0mouts\u001b[0m \u001b[0;34m=\u001b[0m \u001b[0mfit_function\u001b[0m\u001b[0;34m(\u001b[0m\u001b[0mins_batch\u001b[0m\u001b[0;34m)\u001b[0m\u001b[0;34m\u001b[0m\u001b[0;34m\u001b[0m\u001b[0m\n\u001b[0m\u001b[1;32m    197\u001b[0m                 \u001b[0mouts\u001b[0m \u001b[0;34m=\u001b[0m \u001b[0mto_list\u001b[0m\u001b[0;34m(\u001b[0m\u001b[0mouts\u001b[0m\u001b[0;34m)\u001b[0m\u001b[0;34m\u001b[0m\u001b[0;34m\u001b[0m\u001b[0m\n\u001b[1;32m    198\u001b[0m                 \u001b[0;32mfor\u001b[0m \u001b[0ml\u001b[0m\u001b[0;34m,\u001b[0m \u001b[0mo\u001b[0m \u001b[0;32min\u001b[0m \u001b[0mzip\u001b[0m\u001b[0;34m(\u001b[0m\u001b[0mout_labels\u001b[0m\u001b[0;34m,\u001b[0m \u001b[0mouts\u001b[0m\u001b[0;34m)\u001b[0m\u001b[0;34m:\u001b[0m\u001b[0;34m\u001b[0m\u001b[0;34m\u001b[0m\u001b[0m\n",
            "\u001b[0;32m/usr/local/lib/python3.6/dist-packages/tensorflow/python/keras/backend.py\u001b[0m in \u001b[0;36m__call__\u001b[0;34m(self, inputs)\u001b[0m\n\u001b[1;32m   3790\u001b[0m         \u001b[0mvalue\u001b[0m \u001b[0;34m=\u001b[0m \u001b[0mmath_ops\u001b[0m\u001b[0;34m.\u001b[0m\u001b[0mcast\u001b[0m\u001b[0;34m(\u001b[0m\u001b[0mvalue\u001b[0m\u001b[0;34m,\u001b[0m \u001b[0mtensor\u001b[0m\u001b[0;34m.\u001b[0m\u001b[0mdtype\u001b[0m\u001b[0;34m)\u001b[0m\u001b[0;34m\u001b[0m\u001b[0;34m\u001b[0m\u001b[0m\n\u001b[1;32m   3791\u001b[0m       \u001b[0mconverted_inputs\u001b[0m\u001b[0;34m.\u001b[0m\u001b[0mappend\u001b[0m\u001b[0;34m(\u001b[0m\u001b[0mvalue\u001b[0m\u001b[0;34m)\u001b[0m\u001b[0;34m\u001b[0m\u001b[0;34m\u001b[0m\u001b[0m\n\u001b[0;32m-> 3792\u001b[0;31m     \u001b[0moutputs\u001b[0m \u001b[0;34m=\u001b[0m \u001b[0mself\u001b[0m\u001b[0;34m.\u001b[0m\u001b[0m_graph_fn\u001b[0m\u001b[0;34m(\u001b[0m\u001b[0;34m*\u001b[0m\u001b[0mconverted_inputs\u001b[0m\u001b[0;34m)\u001b[0m\u001b[0;34m\u001b[0m\u001b[0;34m\u001b[0m\u001b[0m\n\u001b[0m\u001b[1;32m   3793\u001b[0m \u001b[0;34m\u001b[0m\u001b[0m\n\u001b[1;32m   3794\u001b[0m     \u001b[0;31m# EagerTensor.numpy() will often make a copy to ensure memory safety.\u001b[0m\u001b[0;34m\u001b[0m\u001b[0;34m\u001b[0m\u001b[0;34m\u001b[0m\u001b[0m\n",
            "\u001b[0;32m/usr/local/lib/python3.6/dist-packages/tensorflow/python/eager/function.py\u001b[0m in \u001b[0;36m__call__\u001b[0;34m(self, *args, **kwargs)\u001b[0m\n\u001b[1;32m   1603\u001b[0m       \u001b[0mTypeError\u001b[0m\u001b[0;34m:\u001b[0m \u001b[0mFor\u001b[0m \u001b[0minvalid\u001b[0m \u001b[0mpositional\u001b[0m\u001b[0;34m/\u001b[0m\u001b[0mkeyword\u001b[0m \u001b[0margument\u001b[0m \u001b[0mcombinations\u001b[0m\u001b[0;34m.\u001b[0m\u001b[0;34m\u001b[0m\u001b[0;34m\u001b[0m\u001b[0m\n\u001b[1;32m   1604\u001b[0m     \"\"\"\n\u001b[0;32m-> 1605\u001b[0;31m     \u001b[0;32mreturn\u001b[0m \u001b[0mself\u001b[0m\u001b[0;34m.\u001b[0m\u001b[0m_call_impl\u001b[0m\u001b[0;34m(\u001b[0m\u001b[0margs\u001b[0m\u001b[0;34m,\u001b[0m \u001b[0mkwargs\u001b[0m\u001b[0;34m)\u001b[0m\u001b[0;34m\u001b[0m\u001b[0;34m\u001b[0m\u001b[0m\n\u001b[0m\u001b[1;32m   1606\u001b[0m \u001b[0;34m\u001b[0m\u001b[0m\n\u001b[1;32m   1607\u001b[0m   \u001b[0;32mdef\u001b[0m \u001b[0m_call_impl\u001b[0m\u001b[0;34m(\u001b[0m\u001b[0mself\u001b[0m\u001b[0;34m,\u001b[0m \u001b[0margs\u001b[0m\u001b[0;34m,\u001b[0m \u001b[0mkwargs\u001b[0m\u001b[0;34m,\u001b[0m \u001b[0mcancellation_manager\u001b[0m\u001b[0;34m=\u001b[0m\u001b[0;32mNone\u001b[0m\u001b[0;34m)\u001b[0m\u001b[0;34m:\u001b[0m\u001b[0;34m\u001b[0m\u001b[0;34m\u001b[0m\u001b[0m\n",
            "\u001b[0;32m/usr/local/lib/python3.6/dist-packages/tensorflow/python/eager/function.py\u001b[0m in \u001b[0;36m_call_impl\u001b[0;34m(self, args, kwargs, cancellation_manager)\u001b[0m\n\u001b[1;32m   1643\u001b[0m       raise TypeError(\"Keyword arguments {} unknown. Expected {}.\".format(\n\u001b[1;32m   1644\u001b[0m           list(kwargs.keys()), list(self._arg_keywords)))\n\u001b[0;32m-> 1645\u001b[0;31m     \u001b[0;32mreturn\u001b[0m \u001b[0mself\u001b[0m\u001b[0;34m.\u001b[0m\u001b[0m_call_flat\u001b[0m\u001b[0;34m(\u001b[0m\u001b[0margs\u001b[0m\u001b[0;34m,\u001b[0m \u001b[0mself\u001b[0m\u001b[0;34m.\u001b[0m\u001b[0mcaptured_inputs\u001b[0m\u001b[0;34m,\u001b[0m \u001b[0mcancellation_manager\u001b[0m\u001b[0;34m)\u001b[0m\u001b[0;34m\u001b[0m\u001b[0;34m\u001b[0m\u001b[0m\n\u001b[0m\u001b[1;32m   1646\u001b[0m \u001b[0;34m\u001b[0m\u001b[0m\n\u001b[1;32m   1647\u001b[0m   \u001b[0;32mdef\u001b[0m \u001b[0m_filtered_call\u001b[0m\u001b[0;34m(\u001b[0m\u001b[0mself\u001b[0m\u001b[0;34m,\u001b[0m \u001b[0margs\u001b[0m\u001b[0;34m,\u001b[0m \u001b[0mkwargs\u001b[0m\u001b[0;34m)\u001b[0m\u001b[0;34m:\u001b[0m\u001b[0;34m\u001b[0m\u001b[0;34m\u001b[0m\u001b[0m\n",
            "\u001b[0;32m/usr/local/lib/python3.6/dist-packages/tensorflow/python/eager/function.py\u001b[0m in \u001b[0;36m_call_flat\u001b[0;34m(self, args, captured_inputs, cancellation_manager)\u001b[0m\n\u001b[1;32m   1744\u001b[0m       \u001b[0;31m# No tape is watching; skip to running the function.\u001b[0m\u001b[0;34m\u001b[0m\u001b[0;34m\u001b[0m\u001b[0;34m\u001b[0m\u001b[0m\n\u001b[1;32m   1745\u001b[0m       return self._build_call_outputs(self._inference_function.call(\n\u001b[0;32m-> 1746\u001b[0;31m           ctx, args, cancellation_manager=cancellation_manager))\n\u001b[0m\u001b[1;32m   1747\u001b[0m     forward_backward = self._select_forward_and_backward_functions(\n\u001b[1;32m   1748\u001b[0m         \u001b[0margs\u001b[0m\u001b[0;34m,\u001b[0m\u001b[0;34m\u001b[0m\u001b[0;34m\u001b[0m\u001b[0m\n",
            "\u001b[0;32m/usr/local/lib/python3.6/dist-packages/tensorflow/python/eager/function.py\u001b[0m in \u001b[0;36mcall\u001b[0;34m(self, ctx, args, cancellation_manager)\u001b[0m\n\u001b[1;32m    596\u001b[0m               \u001b[0minputs\u001b[0m\u001b[0;34m=\u001b[0m\u001b[0margs\u001b[0m\u001b[0;34m,\u001b[0m\u001b[0;34m\u001b[0m\u001b[0;34m\u001b[0m\u001b[0m\n\u001b[1;32m    597\u001b[0m               \u001b[0mattrs\u001b[0m\u001b[0;34m=\u001b[0m\u001b[0mattrs\u001b[0m\u001b[0;34m,\u001b[0m\u001b[0;34m\u001b[0m\u001b[0;34m\u001b[0m\u001b[0m\n\u001b[0;32m--> 598\u001b[0;31m               ctx=ctx)\n\u001b[0m\u001b[1;32m    599\u001b[0m         \u001b[0;32melse\u001b[0m\u001b[0;34m:\u001b[0m\u001b[0;34m\u001b[0m\u001b[0;34m\u001b[0m\u001b[0m\n\u001b[1;32m    600\u001b[0m           outputs = execute.execute_with_cancellation(\n",
            "\u001b[0;32m/usr/local/lib/python3.6/dist-packages/tensorflow/python/eager/execute.py\u001b[0m in \u001b[0;36mquick_execute\u001b[0;34m(op_name, num_outputs, inputs, attrs, ctx, name)\u001b[0m\n\u001b[1;32m     58\u001b[0m     \u001b[0mctx\u001b[0m\u001b[0;34m.\u001b[0m\u001b[0mensure_initialized\u001b[0m\u001b[0;34m(\u001b[0m\u001b[0;34m)\u001b[0m\u001b[0;34m\u001b[0m\u001b[0;34m\u001b[0m\u001b[0m\n\u001b[1;32m     59\u001b[0m     tensors = pywrap_tfe.TFE_Py_Execute(ctx._handle, device_name, op_name,\n\u001b[0;32m---> 60\u001b[0;31m                                         inputs, attrs, num_outputs)\n\u001b[0m\u001b[1;32m     61\u001b[0m   \u001b[0;32mexcept\u001b[0m \u001b[0mcore\u001b[0m\u001b[0;34m.\u001b[0m\u001b[0m_NotOkStatusException\u001b[0m \u001b[0;32mas\u001b[0m \u001b[0me\u001b[0m\u001b[0;34m:\u001b[0m\u001b[0;34m\u001b[0m\u001b[0;34m\u001b[0m\u001b[0m\n\u001b[1;32m     62\u001b[0m     \u001b[0;32mif\u001b[0m \u001b[0mname\u001b[0m \u001b[0;32mis\u001b[0m \u001b[0;32mnot\u001b[0m \u001b[0;32mNone\u001b[0m\u001b[0;34m:\u001b[0m\u001b[0;34m\u001b[0m\u001b[0;34m\u001b[0m\u001b[0m\n",
            "\u001b[0;31mKeyboardInterrupt\u001b[0m: "
          ]
        }
      ]
    },
    {
      "cell_type": "code",
      "metadata": {
        "id": "Imt_HDJvL_LK",
        "colab_type": "code",
        "outputId": "19094dca-bff3-4446-99a6-d696f254df6c",
        "colab": {
          "base_uri": "https://localhost:8080/",
          "height": 34
        }
      },
      "source": [
        "%ls -l weights"
      ],
      "execution_count": 0,
      "outputs": [
        {
          "output_type": "stream",
          "text": [
            "ls: cannot access 'weights': No such file or directory\n"
          ],
          "name": "stdout"
        }
      ]
    },
    {
      "cell_type": "code",
      "metadata": {
        "id": "m6oqoCAeqooo",
        "colab_type": "code",
        "colab": {}
      },
      "source": [
        "from time import time\n",
        "import numpy as np\n",
        "import keras.backend as K\n",
        "from keras.engine.topology import Layer, InputSpec\n",
        "from keras.layers import Dense, Input\n",
        "from keras.models import Model\n",
        "from keras.optimizers import SGD\n",
        "from keras import callbacks\n",
        "from keras.initializers import VarianceScaling\n",
        "from sklearn.cluster import KMeans\n"
      ],
      "execution_count": 0,
      "outputs": []
    },
    {
      "cell_type": "code",
      "metadata": {
        "id": "AhXqP4JcyLqy",
        "colab_type": "code",
        "colab": {}
      },
      "source": [
        "#From https://github.com/michaal94/torch_DCEC\n",
        "class ClusteringLayer(Layer):\n",
        "    \"\"\"\n",
        "    Clustering layer converts input sample (feature) to soft label, i.e. a vector that represents the probability of the\n",
        "    sample belonging to each cluster. The probability is calculated with student's t-distribution.\n",
        "\n",
        "    # Example\n",
        "    ```\n",
        "        model.add(ClusteringLayer(n_clusters=10))\n",
        "    ```\n",
        "    # Arguments\n",
        "        n_clusters: number of clusters.\n",
        "        weights: list of Numpy array with shape `(n_clusters, n_features)` witch represents the initial cluster centers.\n",
        "        alpha: degrees of freedom parameter in Student's t-distribution. Default to 1.0.\n",
        "    # Input shape\n",
        "        2D tensor with shape: `(n_samples, n_features)`.\n",
        "    # Output shape\n",
        "        2D tensor with shape: `(n_samples, n_clusters)`.\n",
        "    \"\"\"\n",
        "\n",
        "    def __init__(self, n_clusters, weights=None, alpha=1.0, **kwargs):\n",
        "        if 'input_shape' not in kwargs and 'input_dim' in kwargs:\n",
        "            kwargs['input_shape'] = (kwargs.pop('input_dim'),)\n",
        "        super(ClusteringLayer, self).__init__(**kwargs)\n",
        "        self.n_clusters = n_clusters\n",
        "        self.alpha = alpha\n",
        "        self.initial_weights = weights\n",
        "        self.input_spec = InputSpec(ndim=2)\n",
        "\n",
        "    def build(self, input_shape):\n",
        "        assert len(input_shape) == 2\n",
        "        input_dim = input_shape[1]\n",
        "        self.input_spec = InputSpec(dtype=K.floatx(), shape=(None, input_dim))\n",
        "        self.clusters = self.add_weight(shape=(self.n_clusters, input_dim), initializer='glorot_uniform', name='clusters')\n",
        "        if self.initial_weights is not None:\n",
        "            self.set_weights(self.initial_weights)\n",
        "            del self.initial_weights\n",
        "        self.built = True\n",
        "\n",
        "    def call(self, inputs, **kwargs):\n",
        "        \"\"\" student t-distribution, as same as used in t-SNE algorithm.\n",
        "         Measure the similarity between embedded point z_i and centroid µ_j.\n",
        "                 q_ij = 1/(1+dist(x_i, µ_j)^2), then normalize it.\n",
        "                 q_ij can be interpreted as the probability of assigning sample i to cluster j.\n",
        "                 (i.e., a soft assignment)\n",
        "        Arguments:\n",
        "            inputs: the variable containing data, shape=(n_samples, n_features)\n",
        "        Return:\n",
        "            q: student's t-distribution, or soft labels for each sample. shape=(n_samples, n_clusters)\n",
        "        \"\"\"\n",
        "        q = 1.0 / (1.0 + (K.sum(K.square(K.expand_dims(inputs, axis=1) - self.clusters), axis=2) / self.alpha))\n",
        "        q **= (self.alpha + 1.0) / 2.0\n",
        "        q = K.transpose(K.transpose(q) / K.sum(q, axis=1)) # Make sure each sample's 10 values add up to 1.\n",
        "        return q\n",
        "\n",
        "    def compute_output_shape(self, input_shape):\n",
        "        assert input_shape and len(input_shape) == 2\n",
        "        return input_shape[0], self.n_clusters\n",
        "\n",
        "    def get_config(self):\n",
        "        config = {'n_clusters': self.n_clusters}\n",
        "        base_config = super(ClusteringLayer, self).get_config()\n",
        "        return dict(list(base_config.items()) + list(config.items()))"
      ],
      "execution_count": 0,
      "outputs": []
    },
    {
      "cell_type": "code",
      "metadata": {
        "id": "dvhWWIOHtWja",
        "colab_type": "code",
        "colab": {}
      },
      "source": [
        "def create_anomaly(digit):\n",
        "  anomaly_digit = digit\n",
        "  print(f\"Using {anomaly_digit} as anomaly dropping 90% of the training samples\")\n",
        "\n",
        "  anomalies = mnist_train_labels == anomaly_digit\n",
        "  selection = np.ones(len(mnist_train_labels), dtype=np.bool)\n",
        "  selection[anomalies] = 0\n",
        "  _selection_anomalies = np.random.choice(len(mnist_train_labels), int(anomalies.sum() * 0.10), replace=False, p=anomalies / anomalies.sum())\n",
        "  selection[_selection_anomalies] = 1\n",
        "\n",
        "  anomaly_train_data = mnist_train_data[selection]\n",
        "  anomaly_train_labels = mnist_train_labels[selection]\n",
        "  x = anomaly_train_data\n",
        "  y = anomaly_train_labels\n",
        "  return x, y\n"
      ],
      "execution_count": 0,
      "outputs": []
    },
    {
      "cell_type": "code",
      "metadata": {
        "id": "GzEOyB6vr7ut",
        "colab_type": "code",
        "outputId": "300ca84f-47f9-47f0-8e11-0222a35377e9",
        "colab": {
          "base_uri": "https://localhost:8080/",
          "height": 71
        }
      },
      "source": [
        "#From https://github.com/michaal94/torch_DCEC\n",
        "\n",
        "from sklearn.utils.linear_assignment_ import linear_assignment\n",
        "\n",
        "# computing an auxiliary target distribution\n",
        "def target_distribution(q):\n",
        "    weight = q ** 2 / q.sum(0)\n",
        "    return (weight.T / weight.sum(1)).T\n",
        "\n",
        "def make_clustering_model(x,y,n_clusters, index, maxiter, update_interval,index_array,loss,tol):\n",
        "  clustering_layer = ClusteringLayer(n_clusters=9, name='clustering')(encoder.output)\n",
        "  model = Model(inputs=encoder.input, outputs=clustering_layer)\n",
        "  model.compile(optimizer='adam', loss='kld')\n",
        "\n",
        "  kmeans = KMeans(n_clusters=n_clusters, n_init=20)\n",
        "  y_pred = kmeans.fit_predict(encoder.predict(x))\n",
        "\n",
        "  y_pred_last = np.copy(y_pred)\n",
        "  model.get_layer(name='clustering').set_weights([kmeans.cluster_centers_])\n",
        "\n",
        "  for ite in range(int(maxiter)):\n",
        "      if ite % update_interval == 0:\n",
        "          q = model.predict(x, verbose=0)\n",
        "          p = target_distribution(q)  # update the auxiliary target distribution p\n",
        "\n",
        "        # evaluate the clustering performance\n",
        "          y_pred = q.argmax(1)\n",
        "        # check stop criterion\n",
        "          delta_label = np.sum(y_pred != y_pred_last).astype(np.float32) / y_pred.shape[0]\n",
        "          y_pred_last = np.copy(y_pred)\n",
        "          if ite > 0 and delta_label < tol:\n",
        "              print('delta_label ', delta_label, '< tol ', tol)\n",
        "              print('Reached tolerance threshold. Stopping training.')\n",
        "              break\n",
        "      idx = index_array[index * batch_size: min((index+1) * batch_size, x.shape[0])]\n",
        "      loss = model.train_on_batch(x=x[idx], y=p[idx])\n",
        "      index = index + 1 if (index + 1) * batch_size <= x.shape[0] else 0\n",
        "\n",
        "  model.save_weights('/content/drive/My Drive/d1' + mnist_digit + 'l2_cl_iter1.h5')\n",
        "  return model\n"
      ],
      "execution_count": 0,
      "outputs": [
        {
          "output_type": "stream",
          "text": [
            "/usr/local/lib/python3.6/dist-packages/sklearn/utils/linear_assignment_.py:22: FutureWarning: The linear_assignment_ module is deprecated in 0.21 and will be removed from 0.23. Use scipy.optimize.linear_sum_assignment instead.\n",
            "  FutureWarning)\n"
          ],
          "name": "stderr"
        }
      ]
    },
    {
      "cell_type": "code",
      "metadata": {
        "id": "buTKl65l21-1",
        "colab_type": "code",
        "outputId": "67a831da-7a56-4da6-80ae-c6116cb5ab54",
        "colab": {
          "base_uri": "https://localhost:8080/",
          "height": 34
        }
      },
      "source": [
        "import os\n",
        "def cae_model(useNorm):\n",
        "  if useNorm==False:\n",
        "    cae = CAE()\n",
        "    print('Using no l2 CAE')\n",
        "  elif useNorm==True:\n",
        "    cae = CAE(use_norm=True)\n",
        "    print('Using l2 CAE')\n",
        "  return cae\n",
        "\n",
        "mnist_digit = '0'\n",
        "digit_int = 0\n",
        "#cae = cae_model(useNorm = True)\n",
        "#cae.compile(optimizer=\"adam\", loss=\"mse\")\n",
        "#cae.load_weights('/content/d' + mnist_digit + '_with_l2_f0_e200_b256.h5')\n",
        "encoder = keras.Model(inputs=cea_l2_anomaly.input, outputs=cea_l2_anomaly.get_layer(name='embedding').output)\n",
        "\n",
        "#Values set as described in https://github.com/michaal94/torch_DCEC. Tol can be changed to 0.01 from smaller datasets\n",
        "x, y = create_anomaly(digit=digit_int)\n",
        "loss = 0\n",
        "index = 0\n",
        "maxiter = 8000\n",
        "update_interval = 140\n",
        "index_array = np.arange(x.shape[0])\n",
        "tol = 0.001 \n",
        "n_clusters=9\n",
        "\n",
        "model = make_clustering_model(x,y,n_clusters, index, maxiter, update_interval,index_array,loss,tol)\n"
      ],
      "execution_count": 0,
      "outputs": [
        {
          "output_type": "stream",
          "text": [
            "Using 0 as anomaly dropping 90% of the training samples\n"
          ],
          "name": "stdout"
        }
      ]
    },
    {
      "cell_type": "code",
      "metadata": {
        "id": "_74aN5WmCbGD",
        "colab_type": "code",
        "colab": {}
      },
      "source": [
        "def cluster_emb(emb, n_clusters=9):\n",
        "  clf = KMeans(n_clusters=n_clusters)\n",
        "  cluster_dist = clf.fit_transform(emb)\n",
        "  labels = clf.predict(emb)\n",
        "  return labels, cluster_dist, clf\n",
        "\n",
        "\n",
        "def m(y_true, y_pred):\n",
        "  \"\"\"Find a mapping from ground truth to kmeans labels\"\"\"\n",
        "  cm = contingency_matrix(y_pred, y_true)\n",
        "  # print(cm)\n",
        "  # print(np.argmax(cm, axis=1))\n",
        "  _, assignment = scipy.optimize.linear_sum_assignment(-cm)\n",
        "  print(assignment)\n",
        "  return np.asarray([assignment[l] for l in y_pred])\n",
        "\n",
        "\n",
        "def plot_tnse(data, titles, y_true, layout, selection_size=1000):\n",
        "  tsne_selection = np.random.permutation(len(embeddings))[:selection_size]\n",
        "  for i, ((_d, _y_pred), _t), in enumerate(zip(data, titles)):\n",
        "    tsne_emb = TSNE(n_components=2).fit_transform(_d[tsne_selection])\n",
        "    labels_m = m(y_true, _y_pred)\n",
        "    plt.subplot(*layout, i+1)\n",
        "    g = sns.scatterplot(tsne_emb[:, 0], tsne_emb[:, 1], hue=labels[tsne_selection], legend=\"full\", palette=\"Paired\").set_title(f\"TNSE of {_t} (N={selection_size})\")\n",
        "    \n",
        "def report(y_true, labels_unmapped):\n",
        "  mapping = m(y_true, labels_unmapped)\n",
        "  print(classification_report(y_true, mapping))\n",
        "  print(\"Accuracy: \", (y_true == mapping).mean())\n",
        "\n",
        "\n",
        "def get_emb(_model, data):\n",
        "  encoder = keras.Model(inputs=_model.input, outputs=_model.get_layer(name='embedding').output)\n",
        "  return encoder.predict(data)"
      ],
      "execution_count": 0,
      "outputs": []
    },
    {
      "cell_type": "markdown",
      "metadata": {
        "id": "DaTYMEr_tHRX",
        "colab_type": "text"
      },
      "source": [
        "# Anomaly Detection\n",
        "\n"
      ]
    },
    {
      "cell_type": "markdown",
      "metadata": {
        "id": "vV3-uixotdTo",
        "colab_type": "text"
      },
      "source": [
        "Take a random digit and drop 10% in the train set"
      ]
    },
    {
      "cell_type": "code",
      "metadata": {
        "id": "SsHuaHgELwIO",
        "colab_type": "code",
        "colab": {}
      },
      "source": [
        "\n",
        "def calc_emb(model):\n",
        "  emb = get_emb(model, mnist_train_data)\n",
        "  labels_a, clusters_a, clf_a = cluster_emb(emb, n_clusters=9)\n",
        "  return labels_a, clusters_a, clf_a, emb \n",
        "\n",
        "def compute_normality(C, emb):\n",
        "  norm = emb @ (C.T / np.linalg.norm(C, ord=2, axis=1))\n",
        "  return norm.max(axis=1)\n",
        "\n",
        "def calc_auc(model, anomaly_digit):\n",
        "  labels_a, clusters_a, clf_a, emb = calc_emb(model=model)\n",
        "  normality = compute_normality(clf_a.cluster_centers_, get_emb(model, mnist_test_data))\n",
        "  plt.hist(normality)\n",
        "\n",
        "  fpr, tpr, thresholds = metrics.roc_curve(mnist_test_labels == anomaly_digit, 1-normality, pos_label=1)\n",
        "  auc_digit = metrics.auc(fpr, tpr)\n",
        "  plt.plot(fpr, tpr, label=f\"ROC AUC={auc_digit:0.3f}\", c=\"r\")\n",
        "  plt.plot([0, 1], [0, 1], color='navy', linestyle='--')\n",
        "  plt.xlim([0.0, 1.0])\n",
        "  plt.ylim([0.0, 1.05])\n",
        "  plt.xlabel('False Positive Rate')\n",
        "  plt.ylabel('True Positive Rate')\n",
        "  plt.title(f'Receiver operating curve for {anomaly_digit}')\n",
        "  plt.legend(loc=\"lower right\")\n",
        "  plt.show()"
      ],
      "execution_count": 0,
      "outputs": []
    },
    {
      "cell_type": "code",
      "metadata": {
        "id": "pz2wV62tU23Z",
        "colab_type": "code",
        "outputId": "5f6f8a15-e122-4e3e-be42-605415314aac",
        "colab": {
          "base_uri": "https://localhost:8080/",
          "height": 295
        }
      },
      "source": [
        "model.load_weights('/content/drive/My Drive/d0no_l2_cl_iter1.h5')\n",
        "calc_auc(model, anomaly_digit=0)"
      ],
      "execution_count": 0,
      "outputs": [
        {
          "output_type": "display_data",
          "data": {
            "image/png": "[encoded data removed]",
            "text/plain": [
              "<Figure size 432x288 with 1 Axes>"
            ]
          },
          "metadata": {
            "tags": [],
            "needs_background": "light"
          }
        }
      ]
    },
    {
      "cell_type": "code",
      "metadata": {
        "id": "qO9LsFmpTvAN",
        "colab_type": "code",
        "outputId": "f0a621cc-48cd-49b7-8421-e4456a74fca7",
        "colab": {
          "base_uri": "https://localhost:8080/",
          "height": 295
        }
      },
      "source": [
        "model.load_weights('/content/drive/My Drive/d1no_l2_cl_iter1.h5')\n",
        "calc_auc(model, anomaly_digit=1)"
      ],
      "execution_count": 0,
      "outputs": [
        {
          "output_type": "display_data",
          "data": {
            "image/png": "[encoded data removed]",
            "text/plain": [
              "<Figure size 432x288 with 1 Axes>"
            ]
          },
          "metadata": {
            "tags": [],
            "needs_background": "light"
          }
        }
      ]
    },
    {
      "cell_type": "code",
      "metadata": {
        "id": "zfZOpaN-TvMy",
        "colab_type": "code",
        "outputId": "8c9e022b-865b-45fa-f7de-6b66e8c167cf",
        "colab": {
          "base_uri": "https://localhost:8080/",
          "height": 295
        }
      },
      "source": [
        "model.load_weights('/content/drive/My Drive/d22no_l2_cl_iter1.h5')\n",
        "calc_auc(model, anomaly_digit=2)"
      ],
      "execution_count": 0,
      "outputs": [
        {
          "output_type": "display_data",
          "data": {
            "image/png": "[encoded data removed]",
            "text/plain": [
              "<Figure size 432x288 with 1 Axes>"
            ]
          },
          "metadata": {
            "tags": [],
            "needs_background": "light"
          }
        }
      ]
    },
    {
      "cell_type": "code",
      "metadata": {
        "id": "sakAJJudTvY8",
        "colab_type": "code",
        "outputId": "d5ad730e-3011-42a1-8227-d29adc7d66f3",
        "colab": {
          "base_uri": "https://localhost:8080/",
          "height": 295
        }
      },
      "source": [
        "model.load_weights('/content/drive/My Drive/d3no_l2_cl_iter1.h5')\n",
        "calc_auc(model, anomaly_digit=3)"
      ],
      "execution_count": 0,
      "outputs": [
        {
          "output_type": "display_data",
          "data": {
            "image/png": "[encoded data removed]",
            "text/plain": [
              "<Figure size 432x288 with 1 Axes>"
            ]
          },
          "metadata": {
            "tags": [],
            "needs_background": "light"
          }
        }
      ]
    },
    {
      "cell_type": "code",
      "metadata": {
        "id": "VMbDO4_iVGaY",
        "colab_type": "code",
        "outputId": "5ee992e0-d3a0-4400-cf2a-0a595585cb7a",
        "colab": {
          "base_uri": "https://localhost:8080/",
          "height": 295
        }
      },
      "source": [
        "model.load_weights('/content/drive/My Drive/d00_l2_cl_iter1.h5')\n",
        "calc_auc(model, anomaly_digit=0)"
      ],
      "execution_count": 0,
      "outputs": [
        {
          "output_type": "display_data",
          "data": {
            "image/png": "[encoded data removed]",
            "text/plain": [
              "<Figure size 432x288 with 1 Axes>"
            ]
          },
          "metadata": {
            "tags": [],
            "needs_background": "light"
          }
        }
      ]
    },
    {
      "cell_type": "code",
      "metadata": {
        "id": "_gQsDkFRVGll",
        "colab_type": "code",
        "outputId": "62c60ff5-91b9-4488-c21c-c6668d112859",
        "colab": {
          "base_uri": "https://localhost:8080/",
          "height": 295
        }
      },
      "source": [
        "model.load_weights('/content/drive/My Drive/d1_l2_cl_iter1.h5')\n",
        "calc_auc(model, anomaly_digit=1)"
      ],
      "execution_count": 0,
      "outputs": [
        {
          "output_type": "display_data",
          "data": {
            "image/png": "[encoded data removed]",
            "text/plain": [
              "<Figure size 432x288 with 1 Axes>"
            ]
          },
          "metadata": {
            "tags": [],
            "needs_background": "light"
          }
        }
      ]
    },
    {
      "cell_type": "code",
      "metadata": {
        "id": "OaedjXVBVGo7",
        "colab_type": "code",
        "outputId": "a6691381-d8a1-49c8-91e2-5aaefafce6e0",
        "colab": {
          "base_uri": "https://localhost:8080/",
          "height": 295
        }
      },
      "source": [
        "model.load_weights('/content/drive/My Drive/d2_l2_cl_iter1.h5')\n",
        "calc_auc(model, anomaly_digit=2)"
      ],
      "execution_count": 0,
      "outputs": [
        {
          "output_type": "display_data",
          "data": {
            "image/png": "[encoded data removed]",
            "text/plain": [
              "<Figure size 432x288 with 1 Axes>"
            ]
          },
          "metadata": {
            "tags": [],
            "needs_background": "light"
          }
        }
      ]
    },
    {
      "cell_type": "code",
      "metadata": {
        "id": "lbSXbWJcVGyu",
        "colab_type": "code",
        "outputId": "9ab3d217-9194-4870-f49b-5f9561fdc728",
        "colab": {
          "base_uri": "https://localhost:8080/",
          "height": 295
        }
      },
      "source": [
        "model.load_weights('/content/drive/My Drive/d3_l2_cl_iter1.h5')\n",
        "calc_auc(model, anomaly_digit=3)"
      ],
      "execution_count": 0,
      "outputs": [
        {
          "output_type": "display_data",
          "data": {
            "image/png": "[encoded data removed]",
            "text/plain": [
              "<Figure size 432x288 with 1 Axes>"
            ]
          },
          "metadata": {
            "tags": [],
            "needs_background": "light"
          }
        }
      ]
    }
  ]
}